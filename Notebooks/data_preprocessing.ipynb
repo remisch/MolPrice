{
 "cells": [
  {
   "attachments": {},
   "cell_type": "markdown",
   "metadata": {},
   "source": [
    "# Data preprocessing of the Mcule dataset"
   ]
  },
  {
   "cell_type": "code",
   "execution_count": 1,
   "metadata": {},
   "outputs": [],
   "source": [
    "import pandas as pd\n",
    "import numpy as np\n",
    "import matplotlib.pyplot as plt\n",
    "import rdkit.Chem as Chem\n",
    "from rdkit.Chem import Draw"
   ]
  },
  {
   "attachments": {},
   "cell_type": "markdown",
   "metadata": {},
   "source": [
    "## Import the dataset\n",
    "If it is not working, put the file mcule_purchasable_in_stock_prices_230324_RKoqmy.csv in the folder /datasets"
   ]
  },
  {
   "cell_type": "code",
   "execution_count": 2,
   "metadata": {},
   "outputs": [
    {
     "name": "stderr",
     "output_type": "stream",
     "text": [
      "/var/folders/0_/nhcjn4yj04z1_c5khysjddlm0000gn/T/ipykernel_1623/1927322254.py:1: DtypeWarning: Columns (2) have mixed types. Specify dtype option on import or set low_memory=False.\n",
      "  df = pd.read_csv('../datasets/mcule_purchasable_in_stock_prices_230324_RKoqmy.csv')\n"
     ]
    }
   ],
   "source": [
    "df = pd.read_csv('../datasets/mcule_purchasable_in_stock_prices_230324_RKoqmy.csv')"
   ]
  },
  {
   "cell_type": "code",
   "execution_count": 3,
   "metadata": {},
   "outputs": [
    {
     "data": {
      "text/html": [
       "<div>\n",
       "<style scoped>\n",
       "    .dataframe tbody tr th:only-of-type {\n",
       "        vertical-align: middle;\n",
       "    }\n",
       "\n",
       "    .dataframe tbody tr th {\n",
       "        vertical-align: top;\n",
       "    }\n",
       "\n",
       "    .dataframe thead th {\n",
       "        text-align: right;\n",
       "    }\n",
       "</style>\n",
       "<table border=\"1\" class=\"dataframe\">\n",
       "  <thead>\n",
       "    <tr style=\"text-align: right;\">\n",
       "      <th></th>\n",
       "      <th>Mcule ID</th>\n",
       "      <th>SMILES</th>\n",
       "      <th>stereo label</th>\n",
       "      <th>price 1 (USD)</th>\n",
       "      <th>amount 1 (mg)</th>\n",
       "      <th>delivery time 1 (w.days)</th>\n",
       "      <th>available amount 1 (mg)</th>\n",
       "      <th>price 2 (USD)</th>\n",
       "      <th>amount 2 (mg)</th>\n",
       "      <th>delivery time 2 (w.days)</th>\n",
       "      <th>...</th>\n",
       "      <th>available amount 3 (mg)</th>\n",
       "      <th>price 4 (USD)</th>\n",
       "      <th>amount 4 (mg)</th>\n",
       "      <th>delivery time 4 (w.days)</th>\n",
       "      <th>available amount 4 (mg)</th>\n",
       "      <th>price 5 (USD)</th>\n",
       "      <th>amount 5 (mg)</th>\n",
       "      <th>delivery time 5 (w.days)</th>\n",
       "      <th>available amount 5 (mg)</th>\n",
       "      <th>class</th>\n",
       "    </tr>\n",
       "  </thead>\n",
       "  <tbody>\n",
       "    <tr>\n",
       "      <th>0</th>\n",
       "      <td>MCULE-5933021454</td>\n",
       "      <td>N1N=CNN=1</td>\n",
       "      <td>NaN</td>\n",
       "      <td>46.22</td>\n",
       "      <td>1</td>\n",
       "      <td>21</td>\n",
       "      <td>1100.0</td>\n",
       "      <td>48.75</td>\n",
       "      <td>5.0</td>\n",
       "      <td>11.0</td>\n",
       "      <td>...</td>\n",
       "      <td>NaN</td>\n",
       "      <td>141.70</td>\n",
       "      <td>100.0</td>\n",
       "      <td>16.0</td>\n",
       "      <td>NaN</td>\n",
       "      <td>331.50</td>\n",
       "      <td>1000.0</td>\n",
       "      <td>16.0</td>\n",
       "      <td>NaN</td>\n",
       "      <td>NaN</td>\n",
       "    </tr>\n",
       "    <tr>\n",
       "      <th>1</th>\n",
       "      <td>MCULE-3707390029</td>\n",
       "      <td>C1(=NNC=N1)N(=O)=O</td>\n",
       "      <td>NaN</td>\n",
       "      <td>5.53</td>\n",
       "      <td>1</td>\n",
       "      <td>14</td>\n",
       "      <td>NaN</td>\n",
       "      <td>5.53</td>\n",
       "      <td>5.0</td>\n",
       "      <td>14.0</td>\n",
       "      <td>...</td>\n",
       "      <td>NaN</td>\n",
       "      <td>5.53</td>\n",
       "      <td>100.0</td>\n",
       "      <td>14.0</td>\n",
       "      <td>NaN</td>\n",
       "      <td>5.53</td>\n",
       "      <td>1000.0</td>\n",
       "      <td>14.0</td>\n",
       "      <td>NaN</td>\n",
       "      <td>1.0</td>\n",
       "    </tr>\n",
       "    <tr>\n",
       "      <th>2</th>\n",
       "      <td>MCULE-2532563996</td>\n",
       "      <td>N(=O)(=O)C1=CC2=CC=CN=C2C(O)=C1</td>\n",
       "      <td>NaN</td>\n",
       "      <td>39.52</td>\n",
       "      <td>1</td>\n",
       "      <td>16</td>\n",
       "      <td>6350.0</td>\n",
       "      <td>39.52</td>\n",
       "      <td>5.0</td>\n",
       "      <td>16.0</td>\n",
       "      <td>...</td>\n",
       "      <td>6350.0</td>\n",
       "      <td>39.52</td>\n",
       "      <td>100.0</td>\n",
       "      <td>16.0</td>\n",
       "      <td>6350.0</td>\n",
       "      <td>180.96</td>\n",
       "      <td>1000.0</td>\n",
       "      <td>16.0</td>\n",
       "      <td>6350.0</td>\n",
       "      <td>1.0</td>\n",
       "    </tr>\n",
       "    <tr>\n",
       "      <th>3</th>\n",
       "      <td>MCULE-6058343212</td>\n",
       "      <td>N(=O)(=O)C1C=CC(=C(O)C=1)Cl</td>\n",
       "      <td>NaN</td>\n",
       "      <td>5.20</td>\n",
       "      <td>1</td>\n",
       "      <td>16</td>\n",
       "      <td>NaN</td>\n",
       "      <td>5.20</td>\n",
       "      <td>5.0</td>\n",
       "      <td>16.0</td>\n",
       "      <td>...</td>\n",
       "      <td>NaN</td>\n",
       "      <td>5.20</td>\n",
       "      <td>100.0</td>\n",
       "      <td>16.0</td>\n",
       "      <td>NaN</td>\n",
       "      <td>5.20</td>\n",
       "      <td>1000.0</td>\n",
       "      <td>16.0</td>\n",
       "      <td>NaN</td>\n",
       "      <td>1.0</td>\n",
       "    </tr>\n",
       "    <tr>\n",
       "      <th>4</th>\n",
       "      <td>MCULE-6510012271</td>\n",
       "      <td>C(C1C=CC=CC=1)(=O)C(CCC#N)(CCC#N)CCC#N</td>\n",
       "      <td>NaN</td>\n",
       "      <td>88.90</td>\n",
       "      <td>1</td>\n",
       "      <td>12</td>\n",
       "      <td>26.0</td>\n",
       "      <td>96.99</td>\n",
       "      <td>5.0</td>\n",
       "      <td>12.0</td>\n",
       "      <td>...</td>\n",
       "      <td>NaN</td>\n",
       "      <td>208.00</td>\n",
       "      <td>100.0</td>\n",
       "      <td>26.0</td>\n",
       "      <td>NaN</td>\n",
       "      <td>228.15</td>\n",
       "      <td>1000.0</td>\n",
       "      <td>22.0</td>\n",
       "      <td>NaN</td>\n",
       "      <td>NaN</td>\n",
       "    </tr>\n",
       "  </tbody>\n",
       "</table>\n",
       "<p>5 rows × 24 columns</p>\n",
       "</div>"
      ],
      "text/plain": [
       "           Mcule ID                                  SMILES stereo label  \\\n",
       "0  MCULE-5933021454                               N1N=CNN=1          NaN   \n",
       "1  MCULE-3707390029                      C1(=NNC=N1)N(=O)=O          NaN   \n",
       "2  MCULE-2532563996         N(=O)(=O)C1=CC2=CC=CN=C2C(O)=C1          NaN   \n",
       "3  MCULE-6058343212             N(=O)(=O)C1C=CC(=C(O)C=1)Cl          NaN   \n",
       "4  MCULE-6510012271  C(C1C=CC=CC=1)(=O)C(CCC#N)(CCC#N)CCC#N          NaN   \n",
       "\n",
       "   price 1 (USD)  amount 1 (mg)  delivery time 1 (w.days)  \\\n",
       "0          46.22              1                        21   \n",
       "1           5.53              1                        14   \n",
       "2          39.52              1                        16   \n",
       "3           5.20              1                        16   \n",
       "4          88.90              1                        12   \n",
       "\n",
       "   available amount 1 (mg)  price 2 (USD)  amount 2 (mg)  \\\n",
       "0                   1100.0          48.75            5.0   \n",
       "1                      NaN           5.53            5.0   \n",
       "2                   6350.0          39.52            5.0   \n",
       "3                      NaN           5.20            5.0   \n",
       "4                     26.0          96.99            5.0   \n",
       "\n",
       "   delivery time 2 (w.days)  ...  available amount 3 (mg)  price 4 (USD)  \\\n",
       "0                      11.0  ...                      NaN         141.70   \n",
       "1                      14.0  ...                      NaN           5.53   \n",
       "2                      16.0  ...                   6350.0          39.52   \n",
       "3                      16.0  ...                      NaN           5.20   \n",
       "4                      12.0  ...                      NaN         208.00   \n",
       "\n",
       "   amount 4 (mg)  delivery time 4 (w.days)  available amount 4 (mg)  \\\n",
       "0          100.0                      16.0                      NaN   \n",
       "1          100.0                      14.0                      NaN   \n",
       "2          100.0                      16.0                   6350.0   \n",
       "3          100.0                      16.0                      NaN   \n",
       "4          100.0                      26.0                      NaN   \n",
       "\n",
       "   price 5 (USD)  amount 5 (mg)  delivery time 5 (w.days)  \\\n",
       "0         331.50         1000.0                      16.0   \n",
       "1           5.53         1000.0                      14.0   \n",
       "2         180.96         1000.0                      16.0   \n",
       "3           5.20         1000.0                      16.0   \n",
       "4         228.15         1000.0                      22.0   \n",
       "\n",
       "   available amount 5 (mg)  class  \n",
       "0                      NaN    NaN  \n",
       "1                      NaN    1.0  \n",
       "2                   6350.0    1.0  \n",
       "3                      NaN    1.0  \n",
       "4                      NaN    NaN  \n",
       "\n",
       "[5 rows x 24 columns]"
      ]
     },
     "execution_count": 3,
     "metadata": {},
     "output_type": "execute_result"
    }
   ],
   "source": [
    "df.head()"
   ]
  },
  {
   "attachments": {},
   "cell_type": "markdown",
   "metadata": {},
   "source": [
    "## Check the SMILES validity"
   ]
  },
  {
   "cell_type": "code",
   "execution_count": 4,
   "metadata": {},
   "outputs": [],
   "source": [
    "def check_smiles(smiles):\n",
    "    mol = Chem.MolFromSmiles(smiles)\n",
    "    return mol is not None"
   ]
  },
  {
   "cell_type": "code",
   "execution_count": 6,
   "metadata": {},
   "outputs": [
    {
     "name": "stderr",
     "output_type": "stream",
     "text": [
      "[08:34:28] Explicit valence for atom # 0 Br, 4, is greater than permitted\n",
      "[08:34:29] Explicit valence for atom # 4 Br, 3, is greater than permitted\n",
      "[08:34:46] Explicit valence for atom # 3 N, 5, is greater than permitted\n",
      "[08:34:47] Explicit valence for atom # 3 N, 5, is greater than permitted\n",
      "[08:34:48] Explicit valence for atom # 19 N, 6, is greater than permitted\n",
      "[08:34:48] Explicit valence for atom # 5 Cl, 3, is greater than permitted\n",
      "[08:34:50] Explicit valence for atom # 0 N, 5, is greater than permitted\n",
      "[08:35:36] Explicit valence for atom # 1 N, 5, is greater than permitted\n",
      "[08:35:42] Explicit valence for atom # 0 N, 6, is greater than permitted\n",
      "[08:35:43] Explicit valence for atom # 6 N, 5, is greater than permitted\n",
      "[08:36:00] Explicit valence for atom # 28 Cl, 2, is greater than permitted\n",
      "[08:36:01] Explicit valence for atom # 0 N, 5, is greater than permitted\n",
      "[08:36:11] Explicit valence for atom # 10 Cl, 2, is greater than permitted\n",
      "[08:36:39] Explicit valence for atom # 18 Cl, 3, is greater than permitted\n",
      "[08:36:40] Explicit valence for atom # 0 Cl, 4, is greater than permitted\n",
      "[08:36:40] Explicit valence for atom # 9 Br, 2, is greater than permitted\n",
      "[08:36:40] Explicit valence for atom # 0 N, 5, is greater than permitted\n",
      "[08:36:46] Explicit valence for atom # 0 N, 6, is greater than permitted\n",
      "[08:36:48] Explicit valence for atom # 26 N, 5, is greater than permitted\n",
      "[08:36:54] Explicit valence for atom # 1 N, 6, is greater than permitted\n",
      "[08:36:58] Explicit valence for atom # 48 N, 5, is greater than permitted\n",
      "[08:36:59] Explicit valence for atom # 2 N, 6, is greater than permitted\n",
      "[08:36:59] Explicit valence for atom # 2 N, 5, is greater than permitted\n",
      "[08:37:00] Explicit valence for atom # 1 N, 6, is greater than permitted\n",
      "[08:37:01] Explicit valence for atom # 25 N, 5, is greater than permitted\n",
      "[08:37:02] Explicit valence for atom # 3 N, 5, is greater than permitted\n",
      "[08:37:02] Explicit valence for atom # 10 Cl, 2, is greater than permitted\n"
     ]
    }
   ],
   "source": [
    "df['valid_smiles'] = df['SMILES'].apply(check_smiles)"
   ]
  },
  {
   "attachments": {},
   "cell_type": "markdown",
   "metadata": {},
   "source": [
    "Show the invalid SMILES"
   ]
  },
  {
   "cell_type": "code",
   "execution_count": 7,
   "metadata": {},
   "outputs": [],
   "source": [
    "invalid_df = df[df['valid_smiles'] == False]"
   ]
  },
  {
   "attachments": {},
   "cell_type": "markdown",
   "metadata": {},
   "source": [
    "## First model : Morgan fingerprints"
   ]
  },
  {
   "cell_type": "code",
   "execution_count": 10,
   "metadata": {},
   "outputs": [
    {
     "name": "stderr",
     "output_type": "stream",
     "text": [
      "/var/folders/0_/nhcjn4yj04z1_c5khysjddlm0000gn/T/ipykernel_1623/3279428029.py:2: SettingWithCopyWarning: \n",
      "A value is trying to be set on a copy of a slice from a DataFrame.\n",
      "Try using .loc[row_indexer,col_indexer] = value instead\n",
      "\n",
      "See the caveats in the documentation: https://pandas.pydata.org/pandas-docs/stable/user_guide/indexing.html#returning-a-view-versus-a-copy\n",
      "  valid_df['mol'] =  valid_df['SMILES'].apply(Chem.MolFromSmiles)\n"
     ]
    }
   ],
   "source": [
    "valid_df = df[df['valid_smiles'] == True]\n",
    "valid_df['mol'] =  valid_df['SMILES'].apply(Chem.MolFromSmiles)"
   ]
  },
  {
   "cell_type": "code",
   "execution_count": 12,
   "metadata": {},
   "outputs": [
    {
     "name": "stderr",
     "output_type": "stream",
     "text": [
      "/var/folders/0_/nhcjn4yj04z1_c5khysjddlm0000gn/T/ipykernel_1623/228134696.py:11: SettingWithCopyWarning: \n",
      "A value is trying to be set on a copy of a slice from a DataFrame.\n",
      "Try using .loc[row_indexer,col_indexer] = value instead\n",
      "\n",
      "See the caveats in the documentation: https://pandas.pydata.org/pandas-docs/stable/user_guide/indexing.html#returning-a-view-versus-a-copy\n",
      "  valid_df['fp'] = valid_df['mol'].apply(get_fingerprint)\n"
     ]
    }
   ],
   "source": [
    "# Calculate the fingerprints\n",
    "from rdkit.Chem import AllChem\n",
    "from rdkit import DataStructs\n",
    "\n",
    "def get_fingerprint(mol):\n",
    "    fp = AllChem.GetMorganFingerprintAsBitVect(mol, 2, nBits=1024)\n",
    "    arr = np.zeros((1,))\n",
    "    DataStructs.ConvertToNumpyArray(fp, arr)\n",
    "    return arr\n",
    "\n",
    "valid_df['fp'] = valid_df['mol'].apply(get_fingerprint)"
   ]
  },
  {
   "attachments": {},
   "cell_type": "markdown",
   "metadata": {},
   "source": [
    "## Machine learning model : Multilinear regression"
   ]
  },
  {
   "attachments": {},
   "cell_type": "markdown",
   "metadata": {},
   "source": [
    "Split the dataset into training and test sets"
   ]
  },
  {
   "cell_type": "code",
   "execution_count": 38,
   "metadata": {},
   "outputs": [],
   "source": [
    "from sklearn.model_selection import train_test_split\n",
    "from sklearn.linear_model import LinearRegression"
   ]
  },
  {
   "cell_type": "code",
   "execution_count": 40,
   "metadata": {},
   "outputs": [],
   "source": [
    "def data_split(X, y):\n",
    "    # split the data into training and testing sets\n",
    "    X_train, X_test, y_train, y_test = train_test_split(\n",
    "        X, y, test_size=0.2, random_state=0)\n",
    "    X_train, X_validation, y_train, y_validation = train_test_split(\n",
    "        X_train, y_train, test_size=0.25, random_state=0)\n",
    "\n",
    "    return X_train, X_test, y_train, y_test, X_validation, y_validation\n",
    "\n",
    "\n",
    "X_train, X_test, y_train, y_test, X_validation, y_validation = data_split(valid_df['fp'], valid_df['price 1 (USD)'])"
   ]
  },
  {
   "attachments": {},
   "cell_type": "markdown",
   "metadata": {},
   "source": [
    "normalize the prices"
   ]
  },
  {
   "cell_type": "code",
   "execution_count": 46,
   "metadata": {},
   "outputs": [
    {
     "name": "stderr",
     "output_type": "stream",
     "text": [
      "/var/folders/0_/nhcjn4yj04z1_c5khysjddlm0000gn/T/ipykernel_1623/2933319975.py:10: SettingWithCopyWarning: \n",
      "A value is trying to be set on a copy of a slice from a DataFrame.\n",
      "Try using .loc[row_indexer,col_indexer] = value instead\n",
      "\n",
      "See the caveats in the documentation: https://pandas.pydata.org/pandas-docs/stable/user_guide/indexing.html#returning-a-view-versus-a-copy\n",
      "  valid_df['n_price_1mg'] = valid_df['price 1 (USD)'].apply(normalize_price)\n"
     ]
    }
   ],
   "source": [
    "def normalize_price(price):\n",
    "    return (price - df_min) / (df_max - df_min)\n",
    "\n",
    "def get_price_back(n_price):\n",
    "    return n_price * (df_max - df_min) + df_min\n",
    "\n",
    "df_min = y_train.min()\n",
    "df_max = valid_df['price 1 (USD)'].max()\n",
    "\n",
    "valid_df['n_price_1mg'] = valid_df['price 1 (USD)'].apply(normalize_price)"
   ]
  },
  {
   "cell_type": "code",
   "execution_count": null,
   "metadata": {},
   "outputs": [],
   "source": []
  }
 ],
 "metadata": {
  "kernelspec": {
   "display_name": "Python 3 (ipykernel)",
   "language": "python",
   "name": "python3"
  },
  "language_info": {
   "codemirror_mode": {
    "name": "ipython",
    "version": 3
   },
   "file_extension": ".py",
   "mimetype": "text/x-python",
   "name": "python",
   "nbconvert_exporter": "python",
   "pygments_lexer": "ipython3",
   "version": "3.10.9"
  }
 },
 "nbformat": 4,
 "nbformat_minor": 2
}
