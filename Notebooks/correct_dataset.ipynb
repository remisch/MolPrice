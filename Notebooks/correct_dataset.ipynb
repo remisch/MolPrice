{
 "cells": [
  {
   "attachments": {},
   "cell_type": "markdown",
   "metadata": {},
   "source": [
    "# This file corrects the dataset"
   ]
  },
  {
   "cell_type": "code",
   "execution_count": 1,
   "metadata": {},
   "outputs": [],
   "source": [
    "import pandas as pd\n",
    "import numpy as np\n",
    "import rdkit.Chem as Chem"
   ]
  },
  {
   "attachments": {},
   "cell_type": "markdown",
   "metadata": {},
   "source": [
    "## Import the dataset and check SMILES"
   ]
  },
  {
   "cell_type": "code",
   "execution_count": 2,
   "metadata": {},
   "outputs": [
    {
     "name": "stderr",
     "output_type": "stream",
     "text": [
      "/var/folders/0_/nhcjn4yj04z1_c5khysjddlm0000gn/T/ipykernel_6047/1927322254.py:1: DtypeWarning: Columns (2) have mixed types. Specify dtype option on import or set low_memory=False.\n",
      "  df = pd.read_csv('../datasets/mcule_purchasable_in_stock_prices_230324_RKoqmy.csv')\n"
     ]
    }
   ],
   "source": [
    "df = pd.read_csv('../datasets/mcule_purchasable_in_stock_prices_230324_RKoqmy.csv')"
   ]
  },
  {
   "cell_type": "code",
   "execution_count": 3,
   "metadata": {},
   "outputs": [],
   "source": [
    "def check_smiles(smiles):\n",
    "    mol = Chem.MolFromSmiles(smiles)\n",
    "    return mol is not None"
   ]
  },
  {
   "cell_type": "code",
   "execution_count": 4,
   "metadata": {},
   "outputs": [
    {
     "name": "stderr",
     "output_type": "stream",
     "text": [
      "[10:01:04] Explicit valence for atom # 0 Br, 4, is greater than permitted\n",
      "[10:01:05] Explicit valence for atom # 4 Br, 3, is greater than permitted\n",
      "[10:01:21] Explicit valence for atom # 3 N, 5, is greater than permitted\n",
      "[10:01:23] Explicit valence for atom # 3 N, 5, is greater than permitted\n",
      "[10:01:24] Explicit valence for atom # 19 N, 6, is greater than permitted\n",
      "[10:01:24] Explicit valence for atom # 5 Cl, 3, is greater than permitted\n",
      "[10:01:26] Explicit valence for atom # 0 N, 5, is greater than permitted\n",
      "[10:02:11] Explicit valence for atom # 1 N, 5, is greater than permitted\n",
      "[10:02:16] Explicit valence for atom # 0 N, 6, is greater than permitted\n",
      "[10:02:18] Explicit valence for atom # 6 N, 5, is greater than permitted\n",
      "[10:02:34] Explicit valence for atom # 28 Cl, 2, is greater than permitted\n",
      "[10:02:36] Explicit valence for atom # 0 N, 5, is greater than permitted\n",
      "[10:02:46] Explicit valence for atom # 10 Cl, 2, is greater than permitted\n",
      "[10:03:13] Explicit valence for atom # 18 Cl, 3, is greater than permitted\n",
      "[10:03:14] Explicit valence for atom # 0 Cl, 4, is greater than permitted\n",
      "[10:03:14] Explicit valence for atom # 9 Br, 2, is greater than permitted\n",
      "[10:03:14] Explicit valence for atom # 0 N, 5, is greater than permitted\n",
      "[10:03:20] Explicit valence for atom # 0 N, 6, is greater than permitted\n",
      "[10:03:22] Explicit valence for atom # 26 N, 5, is greater than permitted\n",
      "[10:03:28] Explicit valence for atom # 1 N, 6, is greater than permitted\n",
      "[10:03:31] Explicit valence for atom # 48 N, 5, is greater than permitted\n",
      "[10:03:33] Explicit valence for atom # 2 N, 6, is greater than permitted\n",
      "[10:03:33] Explicit valence for atom # 2 N, 5, is greater than permitted\n",
      "[10:03:34] Explicit valence for atom # 1 N, 6, is greater than permitted\n",
      "[10:03:35] Explicit valence for atom # 25 N, 5, is greater than permitted\n",
      "[10:03:36] Explicit valence for atom # 3 N, 5, is greater than permitted\n",
      "[10:03:36] Explicit valence for atom # 10 Cl, 2, is greater than permitted\n"
     ]
    }
   ],
   "source": [
    "df['valid_smiles'] = df['SMILES'].apply(check_smiles)"
   ]
  },
  {
   "cell_type": "code",
   "execution_count": 5,
   "metadata": {},
   "outputs": [],
   "source": [
    "valid_df = df[df['valid_smiles'] == True]\n",
    "valid_df.to_csv('../datasets/mcule_purchasable_in_stock_prices_230324_RKoqmy_valid_smiles.csv', index=False)"
   ]
  },
  {
   "cell_type": "code",
   "execution_count": null,
   "metadata": {},
   "outputs": [],
   "source": []
  }
 ],
 "metadata": {
  "kernelspec": {
   "display_name": "Python 3",
   "language": "python",
   "name": "python3"
  },
  "language_info": {
   "codemirror_mode": {
    "name": "ipython",
    "version": 3
   },
   "file_extension": ".py",
   "mimetype": "text/x-python",
   "name": "python",
   "nbconvert_exporter": "python",
   "pygments_lexer": "ipython3",
   "version": "3.11.0"
  },
  "orig_nbformat": 4
 },
 "nbformat": 4,
 "nbformat_minor": 2
}
