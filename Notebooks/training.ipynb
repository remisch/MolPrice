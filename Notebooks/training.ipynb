{
 "cells": [
  {
   "cell_type": "code",
   "execution_count": null,
   "metadata": {},
   "outputs": [],
   "source": [
    "import pandas as pd\n",
    "import numpy as np\n",
    "import matplotlib.pyplot as plt\n",
    "import rdkit.Chem as Chem\n",
    "from rdkit.Chem import Draw"
   ]
  },
  {
   "attachments": {},
   "cell_type": "markdown",
   "metadata": {},
   "source": [
    "## Load dataset"
   ]
  },
  {
   "cell_type": "code",
   "execution_count": null,
   "metadata": {},
   "outputs": [],
   "source": [
    "df = pd.read_csv(\"../datasets/mcule_purchasable_in_stock_prices_valid_smiles.csv\")"
   ]
  },
  {
   "attachments": {},
   "cell_type": "markdown",
   "metadata": {},
   "source": [
    "## Create Molecules"
   ]
  },
  {
   "cell_type": "code",
   "execution_count": null,
   "metadata": {},
   "outputs": [],
   "source": [
    "def create_mol(smiles):\n",
    "    return Chem.MolFromSmiles(smiles)\n",
    "\n",
    "df['mol']  = df['SMILES'].apply(lambda x: create_mol(x))"
   ]
  },
  {
   "attachments": {},
   "cell_type": "markdown",
   "metadata": {},
   "source": [
    "## First model : Morgan fingerprints"
   ]
  },
  {
   "cell_type": "code",
   "execution_count": null,
   "metadata": {},
   "outputs": [],
   "source": [
    "# Calculate the fingerprints\n",
    "from rdkit.Chem import AllChem\n",
    "from rdkit import DataStructs\n",
    "\n",
    "def get_fingerprint(mol):\n",
    "    fp = AllChem.GetMorganFingerprintAsBitVect(mol, 2, nBits=1024)\n",
    "    arr = np.zeros((1,))\n",
    "    DataStructs.ConvertToNumpyArray(fp, arr)\n",
    "    return arr\n",
    "\n",
    "df['fp'] = df['mol'].apply(get_fingerprint)"
   ]
  },
  {
   "attachments": {},
   "cell_type": "markdown",
   "metadata": {},
   "source": [
    "## Machine learning model : Multilinear regression"
   ]
  },
  {
   "attachments": {},
   "cell_type": "markdown",
   "metadata": {},
   "source": [
    "Split the dataset into training and test sets"
   ]
  },
  {
   "cell_type": "code",
   "execution_count": null,
   "metadata": {},
   "outputs": [],
   "source": [
    "from sklearn.model_selection import train_test_split\n",
    "from sklearn.linear_model import LinearRegression"
   ]
  },
  {
   "cell_type": "code",
   "execution_count": null,
   "metadata": {},
   "outputs": [],
   "source": [
    "def data_split(X, y):\n",
    "    # split the data into training and testing sets\n",
    "    X_train, X_test, y_train, y_test = train_test_split(\n",
    "        X, y, test_size=0.2, random_state=0)\n",
    "    X_train, X_validation, y_train, y_validation = train_test_split(\n",
    "        X_train, y_train, test_size=0.01, random_state=0)\n",
    "\n",
    "    return X_train, X_test, y_train, y_test, X_validation, y_validation\n",
    "\n",
    "\n",
    "#X_train, X_test, y_train, y_test, X_validation, y_validation = data_split(df['fp'], df['price 1 (USD)'])"
   ]
  },
  {
   "attachments": {},
   "cell_type": "markdown",
   "metadata": {},
   "source": [
    "### Train the model"
   ]
  },
  {
   "cell_type": "code",
   "execution_count": null,
   "metadata": {},
   "outputs": [],
   "source": [
    "# train the model \n",
    "model = LinearRegression()\n",
    "model.fit(X_train[:600000].tolist(), y_train[:600000].tolist())"
   ]
  },
  {
   "cell_type": "code",
   "execution_count": null,
   "metadata": {},
   "outputs": [],
   "source": [
    "# evaluate the model\n",
    "from sklearn.metrics import mean_squared_error, r2_score\n",
    "\n",
    "y_pred = model.predict(X_test[:100000].tolist())\n",
    "print(\"Mean squared error: %.2f\"% mean_squared_error(y_test[:100000].tolist(), y_pred[:100000].tolist()))"
   ]
  },
  {
   "cell_type": "code",
   "execution_count": null,
   "metadata": {},
   "outputs": [],
   "source": [
    "# Plot\n",
    "plt.scatter(y_test[:100000].tolist(), y_pred[:100000], marker='+', color='black')\n",
    "plt.plot(y_test[:100000].tolist(), y_test[:100000].tolist(), color='red')\n",
    "\n",
    "plt.xlabel('True prices [USD]')\n",
    "plt.ylabel('Predicted prices [USD]')\n",
    "plt.text(0, 550, f'$R^2$={r2_score(y_test[:100000].tolist(), y_pred[:100000].tolist()):.2f}')\n",
    "plt.text(0, 500, f'MSE={mean_squared_error(y_test[:100000].tolist(), y_pred[:100000].tolist()):.2f}')\n",
    "plt.savefig(\"morgan_fp_linear_regression_test_100000_train_600000.png\", dpi=800)\n",
    "plt.show()\n"
   ]
  },
  {
   "attachments": {},
   "cell_type": "markdown",
   "metadata": {},
   "source": [
    "## Using descriptors"
   ]
  },
  {
   "cell_type": "code",
   "execution_count": null,
   "metadata": {},
   "outputs": [],
   "source": [
    "from sklearn.model_selection import train_test_split\n",
    "from sklearn.linear_model import LinearRegression\n",
    "# import randomforest \n",
    "from sklearn.ensemble import RandomForestRegressor"
   ]
  },
  {
   "cell_type": "code",
   "execution_count": null,
   "metadata": {},
   "outputs": [],
   "source": [
    "df = pd.read_csv(\"../datasets/mordred_descriptors.csv\")"
   ]
  },
  {
   "cell_type": "code",
   "execution_count": null,
   "metadata": {},
   "outputs": [],
   "source": [
    "df_X = df.drop(\"price 1 (USD)\", axis=1)\n",
    "df_y = df[\"price 1 (USD)\"]"
   ]
  },
  {
   "cell_type": "code",
   "execution_count": null,
   "metadata": {},
   "outputs": [],
   "source": [
    "# train linear model\n",
    "X_train, X_test, y_train, y_test, X_validation, y_validation = data_split(df_X, df_y)\n",
    "\n",
    "model = RandomForestRegressor(n_estimators=200, max_depth=30)\n",
    "model.fit(X_train, y_train.tolist())"
   ]
  },
  {
   "cell_type": "code",
   "execution_count": null,
   "metadata": {},
   "outputs": [],
   "source": [
    "# evaluate the model\n",
    "from sklearn.metrics import mean_squared_error, r2_score\n",
    "\n",
    "y_pred = model.predict(X_test)"
   ]
  },
  {
   "cell_type": "code",
   "execution_count": null,
   "metadata": {},
   "outputs": [],
   "source": [
    "# Plot\n",
    "plt.scatter(y_test.tolist(), y_pred, marker='+', color='black')\n",
    "plt.plot(y_test.tolist(), y_test.tolist(), color='red')\n",
    "\n",
    "plt.xlabel('True prices [USD]')\n",
    "plt.ylabel('Predicted prices [USD]')\n",
    "plt.text(0, 550, f'$R^2$={r2_score(y_test.tolist(), y_pred.tolist()):.2f}')\n",
    "plt.text(0, 500, f'MSE={mean_squared_error(y_test.tolist(), y_pred.tolist()):.2f}')\n",
    "plt.savefig(\"morgan_fp_RF_test_200_train_800.png\", dpi=800)\n",
    "plt.show()"
   ]
  },
  {
   "cell_type": "code",
   "execution_count": null,
   "metadata": {},
   "outputs": [],
   "source": []
  }
 ],
 "metadata": {
  "kernelspec": {
   "display_name": "Python 3",
   "language": "python",
   "name": "python3"
  },
  "language_info": {
   "codemirror_mode": {
    "name": "ipython",
    "version": 3
   },
   "file_extension": ".py",
   "mimetype": "text/x-python",
   "name": "python",
   "nbconvert_exporter": "python",
   "pygments_lexer": "ipython3",
   "version": "3.11.0"
  },
  "orig_nbformat": 4
 },
 "nbformat": 4,
 "nbformat_minor": 2
}
