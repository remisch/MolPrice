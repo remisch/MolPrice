{
 "cells": [
  {
   "cell_type": "code",
   "execution_count": 1,
   "metadata": {},
   "outputs": [
    {
     "name": "stderr",
     "output_type": "stream",
     "text": [
      "\u001b[34m\u001b[1mwandb\u001b[0m: \u001b[33mWARNING\u001b[0m W&B installed but not logged in.  Run `wandb login` or set the WANDB_API_KEY env variable.\n",
      "\u001b[34m\u001b[1mwandb\u001b[0m: \u001b[33mWARNING\u001b[0m W&B installed but not logged in.  Run `wandb login` or set the WANDB_API_KEY env variable.\n",
      "Skipped loading some Jax models, missing a dependency. jax requires jaxlib to be installed. See https://github.com/google/jax#installation for installation instructions.\n"
     ]
    },
    {
     "name": "stdout",
     "output_type": "stream",
     "text": [
      "tensor(47.2647)\n"
     ]
    },
    {
     "name": "stderr",
     "output_type": "stream",
     "text": [
      "c:\\Users\\loicb\\miniconda3\\lib\\site-packages\\torch_geometric\\data\\in_memory_dataset.py:157: UserWarning: It is not recommended to directly access the internal storage format `data` of an 'InMemoryDataset'. The given 'InMemoryDataset' only references a subset of examples of the full dataset, but 'data' will contain information of the full dataset. If you are absolutely certain what you are doing, access the internal storage via `InMemoryDataset._data` instead to suppress this warning. Alternatively, you can access stacked individual attributes of every graph via `dataset.{attr_name}`.\n",
      "  warnings.warn(msg)\n"
     ]
    }
   ],
   "source": [
    "import torch\n",
    "from ogb.utils import smiles2graph\n",
    "from torch_geometric.data import Data\n",
    "from model_nn import MPNN, MCULE_DATA\n",
    "import pytorch_lightning as pl\n",
    "import numpy as np\n",
    "import random\n",
    "from deepchem.splits import RandomSplitter\n",
    "import pandas as pd\n",
    "from tqdm import tqdm\n",
    "\n",
    "torch.manual_seed(0)\n",
    "torch.cuda.manual_seed(0)\n",
    "np.random.seed(0)\n",
    "random.seed(0)\n",
    "\n",
    "\n",
    "dataset = MCULE_DATA('./datasets/').shuffle()\n",
    "\n",
    "splitter = RandomSplitter()\n",
    "train_idx, valid_idx, test_idx = splitter.split(dataset,frac_train=0.7, frac_valid=0.1, frac_test=0.2)\n",
    "train_dataset = dataset[list(train_idx)]\n",
    "valid_dataset = dataset[list(valid_idx)]\n",
    "test_dataset = dataset[list(test_idx)]\n",
    "\n",
    "mean = dataset.data.y.mean()\n",
    "std = dataset.data.y.std()\n",
    "print(std)\n"
   ]
  },
  {
   "cell_type": "code",
   "execution_count": 2,
   "metadata": {},
   "outputs": [
    {
     "data": {
      "text/plain": [
       "MPNN(\n",
       "  (atom_emb): AtomEncoder(\n",
       "    (atom_embedding_list): ModuleList(\n",
       "      (0): Embedding(119, 80)\n",
       "      (1): Embedding(5, 80)\n",
       "      (2-3): 2 x Embedding(12, 80)\n",
       "      (4): Embedding(10, 80)\n",
       "      (5-6): 2 x Embedding(6, 80)\n",
       "      (7-8): 2 x Embedding(2, 80)\n",
       "    )\n",
       "  )\n",
       "  (bond_emb): BondEncoder(\n",
       "    (bond_embedding_list): ModuleList(\n",
       "      (0): Embedding(5, 80)\n",
       "      (1): Embedding(6, 80)\n",
       "      (2): Embedding(2, 80)\n",
       "    )\n",
       "  )\n",
       "  (conv): NNConv(80, 80, aggr=mean, nn=MLP(80, 160, 6400))\n",
       "  (gru): GRU(80, 80)\n",
       "  (mlp): MLP(80, 40, 1)\n",
       ")"
      ]
     },
     "execution_count": 2,
     "metadata": {},
     "output_type": "execute_result"
    }
   ],
   "source": [
    "model = MPNN(\n",
    "    hidden_dim=80,\n",
    "    out_dim=1,\n",
    "    std=std,\n",
    "    train_data=train_dataset,\n",
    "    valid_data=valid_dataset,\n",
    "    test_data=test_dataset,\n",
    "    lr=0.001,\n",
    "    batch_size=64\n",
    ")\n",
    "\n",
    "model.load_state_dict(torch.load('gnn_model.pth'))\n",
    "model.eval()\n",
    "\n"
   ]
  },
  {
   "cell_type": "code",
   "execution_count": 3,
   "metadata": {},
   "outputs": [
    {
     "name": "stderr",
     "output_type": "stream",
     "text": [
      "C:\\Users\\loicb\\AppData\\Local\\Temp\\ipykernel_1256\\3878595.py:1: DtypeWarning: Columns (2) have mixed types. Specify dtype option on import or set low_memory=False.\n",
      "  df=pd.read_csv('mcule_purchasable_in_stock_prices_valid_smiles.csv')\n"
     ]
    },
    {
     "name": "stdout",
     "output_type": "stream",
     "text": [
      "                                                   SMILES  target  \\\n",
      "100000       C1(=NN=CS1)NC(=O)C1=CC=C2C(C(O)=CC(C)=N2)=C1    88.9   \n",
      "100001  C1(C(=O)NCC2=CC=CN=C2)=CN(CC)C2C(=CC(=CC=2)OC)...    88.9   \n",
      "100002  C1(=CN=C2C=CC(=CC2=C1N)NC(=O)C1C=CC=C(OC)C=1)C...    88.9   \n",
      "100003  C1(C=NC2=CC(F)=CC(F)=C2C=1O)C(=O)NC1C=CC=C(Br)C=1    88.9   \n",
      "100004  C1(C(=O)NC2C=CC=C(Br)C=2)=CN(CC)C2C(=CC(=CC=2)...    88.9   \n",
      "...                                                   ...     ...   \n",
      "100995  C12NC(C(O)=O)=CC(C3C=C(OC)C(=C(OC)C=3)OC)N1N=C...    88.9   \n",
      "100996  C12C=NC3=NC(C)=NN3C=1C=CN(C1=CC=C(C(C)=O)C=C1)...    88.9   \n",
      "100997  C12C=NC3=NC(C)=NN3C=1C=CN(C1C=CC(=CC=1)OC(F)(F...    88.9   \n",
      "100998  C1(C(F)(F)F)=NN2C(N=CC3C(N(C4=CC=C(Cl)C=C4)C=C...    88.9   \n",
      "100999  C1(C(F)(F)F)=NN2C(N=CC3C(N(C4=CC=C(OC)C=C4)C=C...    88.9   \n",
      "\n",
      "                                                    graph  \n",
      "100000  {'edge_index': [[0, 1, 1, 2, 2, 3, 3, 4, 0, 5,...  \n",
      "100001  {'edge_index': [[0, 1, 1, 2, 1, 3, 3, 4, 4, 5,...  \n",
      "100002  {'edge_index': [[0, 1, 1, 2, 2, 3, 3, 4, 4, 5,...  \n",
      "100003  {'edge_index': [[0, 1, 1, 2, 2, 3, 3, 4, 4, 5,...  \n",
      "100004  {'edge_index': [[0, 1, 1, 2, 1, 3, 3, 4, 4, 5,...  \n",
      "...                                                   ...  \n",
      "100995  {'edge_index': [[0, 1, 1, 2, 2, 3, 3, 4, 3, 5,...  \n",
      "100996  {'edge_index': [[0, 1, 1, 2, 2, 3, 3, 4, 4, 5,...  \n",
      "100997  {'edge_index': [[0, 1, 1, 2, 2, 3, 3, 4, 4, 5,...  \n",
      "100998  {'edge_index': [[0, 1, 1, 2, 1, 3, 1, 4, 0, 5,...  \n",
      "100999  {'edge_index': [[0, 1, 1, 2, 1, 3, 1, 4, 0, 5,...  \n",
      "\n",
      "[1000 rows x 3 columns]\n"
     ]
    }
   ],
   "source": [
    "df=pd.read_csv('mcule_purchasable_in_stock_prices_valid_smiles.csv')\n",
    "smiles = df['SMILES'][100000:101000]\n",
    "target = df['price 1 (USD)'][100000:101000].values.tolist()\n",
    "\n",
    "df2=pd.DataFrame({'SMILES':smiles, 'target':target})\n",
    "df2['graph']=df2['SMILES'].apply(smiles2graph)\n",
    "\n",
    "print(df2)"
   ]
  },
  {
   "cell_type": "code",
   "execution_count": 15,
   "metadata": {},
   "outputs": [
    {
     "name": "stdout",
     "output_type": "stream",
     "text": [
      "C1(=NN=CS1)NC(=O)C1=CC=C2C(C(O)=CC(C)=N2)=C1\n"
     ]
    }
   ],
   "source": [
    "print(df2['SMILES'][100000])"
   ]
  },
  {
   "cell_type": "code",
   "execution_count": 4,
   "metadata": {},
   "outputs": [
    {
     "name": "stderr",
     "output_type": "stream",
     "text": [
      "100%|██████████| 1000/1000 [00:00<00:00, 13822.06it/s]\n"
     ]
    }
   ],
   "source": [
    "data_list=[]\n",
    "for i, smi in enumerate(tqdm(smiles)):\n",
    "    # convert to tensor and pyg data\n",
    "    x = torch.tensor(df2['graph'][100000+i]['node_feat'], dtype=torch.long)\n",
    "    edge_index = torch.tensor(df2['graph'][100000+i]['edge_index'], dtype=torch.long)\n",
    "    edge_attr = torch.tensor(df2['graph'][100000+i]['edge_feat'], dtype=torch.long)\n",
    "    y = torch.tensor([target[i]], dtype=torch.float)\n",
    "    data = Data(x=x, edge_index=edge_index, edge_attr=edge_attr, y=y)\n",
    "    data_list.append(data)"
   ]
  },
  {
   "cell_type": "code",
   "execution_count": 5,
   "metadata": {},
   "outputs": [],
   "source": [
    "predict= []\n",
    "for i in range(1000):\n",
    "    dat=data_list[i]\n",
    "    with torch.no_grad():\n",
    "        predict.append(float(model(dat)))"
   ]
  },
  {
   "cell_type": "code",
   "execution_count": 12,
   "metadata": {},
   "outputs": [
    {
     "data": {
      "image/png": "[encoded data removed]",
      "text/plain": [
       "<Figure size 640x480 with 1 Axes>"
      ]
     },
     "metadata": {},
     "output_type": "display_data"
    }
   ],
   "source": [
    "from sklearn.metrics import mean_squared_error, r2_score\n",
    "import matplotlib.pyplot as plt\n",
    "# Plot\n",
    "plt.scatter(target, predict, marker='+', color='black')\n",
    "plt.plot(target, target, color='red')\n",
    "\n",
    "plt.xlabel('True prices [USD]')\n",
    "plt.ylabel('Predicted prices [USD]')\n",
    "plt.text(0, 170, f'$R^2$={r2_score(target, predict):.2f}')\n",
    "plt.text(0, 185, f'MSE={mean_squared_error(target, predict):.2f}')\n",
    "plt.savefig(\"test_nn.png\", dpi=800)\n",
    "plt.show()"
   ]
  },
  {
   "cell_type": "code",
   "execution_count": null,
   "metadata": {},
   "outputs": [],
   "source": []
  }
 ],
 "metadata": {
  "kernelspec": {
   "display_name": "base",
   "language": "python",
   "name": "python3"
  },
  "language_info": {
   "codemirror_mode": {
    "name": "ipython",
    "version": 3
   },
   "file_extension": ".py",
   "mimetype": "text/x-python",
   "name": "python",
   "nbconvert_exporter": "python",
   "pygments_lexer": "ipython3",
   "version": "3.9.7"
  },
  "orig_nbformat": 4
 },
 "nbformat": 4,
 "nbformat_minor": 2
}
