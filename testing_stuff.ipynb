{
 "cells": [
  {
   "cell_type": "code",
   "execution_count": 2,
   "metadata": {},
   "outputs": [
    {
     "name": "stderr",
     "output_type": "stream",
     "text": [
      "c:\\Users\\loicb\\miniconda3\\lib\\site-packages\\torch_geometric\\data\\in_memory_dataset.py:157: UserWarning: It is not recommended to directly access the internal storage format `data` of an 'InMemoryDataset'. The given 'InMemoryDataset' only references a subset of examples of the full dataset, but 'data' will contain information of the full dataset. If you are absolutely certain what you are doing, access the internal storage via `InMemoryDataset._data` instead to suppress this warning. Alternatively, you can access stacked individual attributes of every graph via `dataset.{attr_name}`.\n",
      "  warnings.warn(msg)\n"
     ]
    }
   ],
   "source": [
    "import torch\n",
    "from ogb.utils import smiles2graph\n",
    "from torch_geometric.data import Data\n",
    "from model_nn import MPNN, MCULE_DATA\n",
    "import pytorch_lightning as pl\n",
    "import numpy as np\n",
    "import random\n",
    "from deepchem.splits import RandomSplitter\n",
    "\n",
    "\n",
    "torch.manual_seed(0)\n",
    "torch.cuda.manual_seed(0)\n",
    "np.random.seed(0)\n",
    "random.seed(0)\n",
    "\n",
    "\n",
    "dataset = MCULE_DATA('./datasets/').shuffle()\n",
    "\n",
    "splitter = RandomSplitter()\n",
    "train_idx, valid_idx, test_idx = splitter.split(dataset,frac_train=0.7, frac_valid=0.1, frac_test=0.2)\n",
    "train_dataset = dataset[list(train_idx)]\n",
    "valid_dataset = dataset[list(valid_idx)]\n",
    "test_dataset = dataset[list(test_idx)]\n",
    "\n",
    "mean = dataset.data.y.mean()\n",
    "std = dataset.data.y.std()\n"
   ]
  },
  {
   "cell_type": "code",
   "execution_count": 4,
   "metadata": {},
   "outputs": [],
   "source": [
    "model = MPNN(\n",
    "    hidden_dim=80,\n",
    "    out_dim=1,\n",
    "    std=std,\n",
    "    train_data=train_dataset,\n",
    "    valid_data=valid_dataset,\n",
    "    test_data=test_dataset,\n",
    "    lr=0.001,\n",
    "    batch_size=64\n",
    ")\n",
    "\n",
    "model.load_state_dict(torch.load('gnn_model.pth'))\n",
    "model.eval()\n",
    "\n",
    "\n",
    "smiles='c1ccccc1'\n",
    "graph = smiles2graph(smiles)"
   ]
  },
  {
   "cell_type": "code",
   "execution_count": 5,
   "metadata": {},
   "outputs": [
    {
     "name": "stdout",
     "output_type": "stream",
     "text": [
      "tensor([53.5123])\n"
     ]
    }
   ],
   "source": [
    "x = torch.tensor(graph['node_feat'], dtype=torch.long)\n",
    "edge_index = torch.tensor(graph['edge_index'], dtype=torch.long)\n",
    "edge_attr = torch.tensor(graph['edge_feat'], dtype=torch.long)\n",
    "data = Data(x=x, edge_index=edge_index, edge_attr=edge_attr)\n",
    "\n",
    "with torch.no_grad():\n",
    "    output = model(data)\n",
    "\n",
    "print(output)"
   ]
  },
  {
   "cell_type": "code",
   "execution_count": null,
   "metadata": {},
   "outputs": [],
   "source": []
  }
 ],
 "metadata": {
  "kernelspec": {
   "display_name": "base",
   "language": "python",
   "name": "python3"
  },
  "language_info": {
   "codemirror_mode": {
    "name": "ipython",
    "version": 3
   },
   "file_extension": ".py",
   "mimetype": "text/x-python",
   "name": "python",
   "nbconvert_exporter": "python",
   "pygments_lexer": "ipython3",
   "version": "3.9.7"
  },
  "orig_nbformat": 4
 },
 "nbformat": 4,
 "nbformat_minor": 2
}
